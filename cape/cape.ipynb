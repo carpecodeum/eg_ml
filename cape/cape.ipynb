{
 "cells": [
  {
   "cell_type": "code",
   "execution_count": null,
   "metadata": {},
   "outputs": [],
   "source": []
  },
  {
   "cell_type": "code",
   "execution_count": null,
   "metadata": {},
   "outputs": [],
   "source": []
  },
  {
   "cell_type": "code",
   "execution_count": null,
   "metadata": {},
   "outputs": [],
   "source": []
  },
  {
   "cell_type": "code",
   "execution_count": null,
   "metadata": {},
   "outputs": [],
   "source": []
  },
  {
   "cell_type": "code",
   "execution_count": null,
   "metadata": {},
   "outputs": [],
   "source": [
    "#importing libraries\n",
    "import cv2\n",
    "import time\n",
    "import numpy as np\n",
    "\n",
    "#edit the output video using fourcc codec\n",
    "fourcc = cv2.VideoWriter_fourcc(*'XVID')\n",
    "out = cv2.VideoWriter('output.avi',fourcc,20.0,(640,480))\n",
    "\n",
    "#reading video '0' for webcam else route to video can be given\n",
    "cap = cv2.VideoCapture(0)\n",
    "\n",
    "#allow the system to sleep for 3 sec before webcam starts (get away from frame to provide background image)\n",
    "time.sleep(3)\n",
    "count = 0\n",
    "background = 0\n",
    "\n",
    "#capturing the background\n",
    "for i in range(60):\n",
    "    temp,background = cap.read()\n",
    "background = np.flip(background, axis=1)\n",
    "\n",
    "#read real time frame from webcam\n",
    "while(cap.isOpened()):\n",
    "    temp, img = cap.read()\n",
    "    if not temp:\n",
    "        break\n",
    "    count += 1\n",
    "    img = np.flip(img, axis=1)\n",
    "\n",
    "    #bgr to hsv coz bgr is more sensitive to light\n",
    "    hsv = cv2.cvtColor(img, cv2.COLOR_BGR2HSV)\n",
    "\n",
    "    lower_range = np.array([0,120,50])\n",
    "    higher_range = np.array([10,255,255])\n",
    "    mask1 = cv2.inRange(hsv, lower_range, higher_range)\n",
    "\n",
    "    lower_range = np.array([170,120,70])\n",
    "    higher_range = np.array([180,255,255])\n",
    "    mask2 = cv2.inRange(hsv, lower_range, higher_range)\n",
    "\n",
    "    mask1 = mask1 + mask2\n",
    "\n",
    "    mask1 = cv2.morphologyEx(mask1, cv2.MORPH_OPEN, np.ones((3,3),np.uint8))\n",
    "    mask1 = cv2.morphologyEx(mask1, cv2.MORPH_DILATE, np.ones((3,3),np.uint8))\n",
    "\n",
    "    #segmenting out cloth color\n",
    "    mask2 = cv2.bitwise_not(mask1)\n",
    "\n",
    "    ## Segment the red color part out of the frame using bitwise and with the inverted mask\n",
    "    layer1 = cv2.bitwise_and(img, img, mask = mask2)\n",
    "\n",
    "    ## Create image showing static background frame pixels only for the masked region\n",
    "    layer2 = cv2.bitwise_and(background, background, mask = mask1)\n",
    "\n",
    "    #output\n",
    "    output = cv2.addWeighted(layer1,1,layer2,1,0)\n",
    "\n",
    "    out.write(output)\n",
    "    cv2.putText(output, \"To stop press 'q'\", (5,15), cv2.FONT_HERSHEY_SIMPLEX ,0.6 , (0,), 3)\n",
    "    cv2.imshow(\"boom!! magic\",output)\n",
    "    \n",
    "    k = cv2.waitKey(3) & 0xFF\n",
    "    if k == ord('q') :\n",
    "        self.calib_switch = False\n",
    "        cv2.destroyAllWindows()"
   ]
  },
  {
   "cell_type": "code",
   "execution_count": null,
   "metadata": {},
   "outputs": [],
   "source": []
  },
  {
   "cell_type": "code",
   "execution_count": null,
   "metadata": {},
   "outputs": [],
   "source": []
  }
 ],
 "metadata": {
  "kernelspec": {
   "display_name": "Python 3",
   "language": "python",
   "name": "python3"
  },
  "language_info": {
   "codemirror_mode": {
    "name": "ipython",
    "version": 3
   },
   "file_extension": ".py",
   "mimetype": "text/x-python",
   "name": "python",
   "nbconvert_exporter": "python",
   "pygments_lexer": "ipython3",
   "version": "3.6.4"
  }
 },
 "nbformat": 4,
 "nbformat_minor": 2
}
